{
 "cells": [
  {
   "cell_type": "code",
   "execution_count": 69,
   "metadata": {
    "collapsed": true
   },
   "outputs": [],
   "source": [
    "import csv\n",
    "file_path = \"/home/ankush/py_pack/some-quest/sample_points1.csv\"\n",
    "sample_array = []"
   ]
  },
  {
   "cell_type": "code",
   "execution_count": 70,
   "metadata": {
    "collapsed": false
   },
   "outputs": [
    {
     "name": "stdout",
     "output_type": "stream",
     "text": [
      "Reading File.\n"
     ]
    }
   ],
   "source": [
    "with open(file_path, 'rb') as csvfile:\n",
    "    print \"Reading File.\"\n",
    "    datareader = csv.reader(csvfile, delimiter=',')\n",
    "    for row in datareader:\n",
    "        sample_array.append(row)"
   ]
  },
  {
   "cell_type": "code",
   "execution_count": 71,
   "metadata": {
    "collapsed": false
   },
   "outputs": [],
   "source": [
    "raw_data = sample_array[1:]"
   ]
  },
  {
   "cell_type": "code",
   "execution_count": 72,
   "metadata": {
    "collapsed": false
   },
   "outputs": [],
   "source": [
    "data = []\n",
    "better_data = []\n",
    "for d in raw_data:\n",
    "    if float(d[3]) < 50:\n",
    "        better_data.append([float(d[0]),float(d[1])])\n",
    "    data.append([float(d[0]),float(d[1])])\n"
   ]
  },
  {
   "cell_type": "code",
   "execution_count": 73,
   "metadata": {
    "collapsed": true
   },
   "outputs": [],
   "source": [
    "x = [j for i,j in data]\n",
    "y = [i for i,j in data]\n",
    "x1 = [j for i,j in better_data]\n",
    "y1 = [i for i,j in better_data]"
   ]
  },
  {
   "cell_type": "code",
   "execution_count": 74,
   "metadata": {
    "collapsed": false
   },
   "outputs": [
    {
     "data": {
      "image/png": "[encoded data removed]",
      "text/plain": [
       "<matplotlib.figure.Figure at 0x7f09397a2450>"
      ]
     },
     "metadata": {},
     "output_type": "display_data"
    }
   ],
   "source": [
    "import matplotlib.pyplot as plt\n",
    "fig = plt.figure()\n",
    "ax = fig.gca()\n",
    "ax.plot(x,y)\n",
    "ax.plot(x1,y1)\n",
    "ax.axis('scaled')\n",
    "plt.show()"
   ]
  },
  {
   "cell_type": "code",
   "execution_count": 90,
   "metadata": {
    "collapsed": false
   },
   "outputs": [],
   "source": [
    "import numpy as np\n",
    "import mplleaflet\n",
    "\n",
    "plt.hold(True)\n",
    "dots = plt.plot(x1, y1, 'r')\n",
    "lines = plt.plot(x1, y1)\n",
    "plt.setp(lines, color='b', linewidth=7.0)\n",
    "plt.setp(dots, color='r', linewidth=2.0,)\n",
    "mplleaflet.show()"
   ]
  },
  {
   "cell_type": "code",
   "execution_count": 34,
   "metadata": {
    "collapsed": false
   },
   "outputs": [],
   "source": [
    "np_data = np.array(data, dtype=np.float)"
   ]
  },
  {
   "cell_type": "code",
   "execution_count": 43,
   "metadata": {
    "collapsed": false
   },
   "outputs": [
    {
     "data": {
      "text/plain": [
       "(191, 2)"
      ]
     },
     "execution_count": 43,
     "metadata": {},
     "output_type": "execute_result"
    }
   ],
   "source": [
    "np_data.size\n",
    "np_data.shape\n"
   ]
  },
  {
   "cell_type": "code",
   "execution_count": 44,
   "metadata": {
    "collapsed": false
   },
   "outputs": [],
   "source": [
    "np_data = np.genfromtxt(file_path, delimiter=\",\", skip_header=1)"
   ]
  },
  {
   "cell_type": "code",
   "execution_count": 45,
   "metadata": {
    "collapsed": false
   },
   "outputs": [
    {
     "data": {
      "text/plain": [
       "array([[ 12.9744634,  77.6734764,         nan,  17.004    ],\n",
       "       [ 12.9744613,  77.6734317,         nan,  23.597    ],\n",
       "       [ 12.9744613,  77.6734317,         nan,  23.863    ],\n",
       "       [ 12.9743687,  77.6733423,         nan,  25.035    ],\n",
       "       [ 12.975162 ,  77.6736251,         nan,  26.       ]])"
      ]
     },
     "execution_count": 45,
     "metadata": {},
     "output_type": "execute_result"
    }
   ],
   "source": [
    "np_data[:5]"
   ]
  },
  {
   "cell_type": "code",
   "execution_count": 53,
   "metadata": {
    "collapsed": false
   },
   "outputs": [],
   "source": [
    "a = np.loadtxt(open(file_path, \"r\"), delimiter=\",\", skiprows=1, dtype=\"string\")"
   ]
  },
  {
   "cell_type": "code",
   "execution_count": 54,
   "metadata": {
    "collapsed": false
   },
   "outputs": [
    {
     "name": "stdout",
     "output_type": "stream",
     "text": [
      "[['12.9744634' '77.6734764' '2017-01-24 04:12:47.9' '17.004']\n",
      " ['12.9744613' '77.6734317' '2017-01-24 04:13:14' '23.597']\n",
      " ['12.9744613' '77.6734317' '2017-01-24 04:14:16.9' '23.863']\n",
      " ['12.9743687' '77.6733423' '2017-01-24 04:15:19' '25.035']\n",
      " ['12.975162' '77.6736251' '2017-01-24 04:15:43' '26']]\n"
     ]
    }
   ],
   "source": [
    "print a[:5]"
   ]
  },
  {
   "cell_type": "code",
   "execution_count": 75,
   "metadata": {
    "collapsed": false
   },
   "outputs": [],
   "source": []
  },
  {
   "cell_type": "code",
   "execution_count": 78,
   "metadata": {
    "collapsed": false
   },
   "outputs": [],
   "source": [
    "plt.hold(True)"
   ]
  },
  {
   "cell_type": "code",
   "execution_count": 84,
   "metadata": {
    "collapsed": false
   },
   "outputs": [
    {
     "data": {
      "text/plain": [
       "[<matplotlib.lines.Line2D at 0x7f0939b2e390>]"
      ]
     },
     "execution_count": 84,
     "metadata": {},
     "output_type": "execute_result"
    }
   ],
   "source": [
    "plt.plot(x1, y1, 'r.')\n",
    "plt.plot(x1, y1, 'b-')"
   ]
  },
  {
   "cell_type": "code",
   "execution_count": 85,
   "metadata": {
    "collapsed": true
   },
   "outputs": [],
   "source": [
    "mplleaflet.show()"
   ]
  },
  {
   "cell_type": "code",
   "execution_count": null,
   "metadata": {
    "collapsed": true
   },
   "outputs": [],
   "source": []
  }
 ],
 "metadata": {
  "kernelspec": {
   "display_name": "Python 2",
   "language": "python",
   "name": "python2"
  },
  "language_info": {
   "codemirror_mode": {
    "name": "ipython",
    "version": 2
   },
   "file_extension": ".py",
   "mimetype": "text/x-python",
   "name": "python",
   "nbconvert_exporter": "python",
   "pygments_lexer": "ipython2",
   "version": "2.7.6"
  }
 },
 "nbformat": 4,
 "nbformat_minor": 2
}
